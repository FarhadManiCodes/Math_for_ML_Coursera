{
 "cells": [
  {
   "cell_type": "markdown",
   "id": "4c96a20a-3262-439d-a728-347e967ce0c5",
   "metadata": {},
   "source": [
    "# Mathematics for Machine Learning: Linear Algebra\n",
    "## Week3\n",
    "## Module 3:\n",
    "\n",
    "### Matrices, vectors, and solving simultaneous equation problems"
   ]
  },
  {
   "cell_type": "markdown",
   "id": "20b54a9d-c10b-4613-86d2-84998227f8dc",
   "metadata": {},
   "source": [
    "#### Motivations for linear algebra"
   ]
  },
  {
   "cell_type": "code",
   "execution_count": 1,
   "id": "be28153f-8764-4f1c-aaae-dd034f93a7ad",
   "metadata": {},
   "outputs": [],
   "source": [
    "from sympy import solve, Poly, Eq, Function, exp\n",
    "\n",
    "from sympy.abc import x, y, z, a, b"
   ]
  },
  {
   "cell_type": "markdown",
   "id": "7c3a8dcd-407c-4f94-8bd4-09ce79c41f6b",
   "metadata": {},
   "source": [
    "$2a + 3b = 8$\n",
    "\n",
    "$10a +1b = 13$"
   ]
  },
  {
   "cell_type": "code",
   "execution_count": 13,
   "id": "4b5282d4-441c-4d59-a645-1f1bfc889f8b",
   "metadata": {},
   "outputs": [
    {
     "data": {
      "text/plain": [
       "{a: 31/28, b: 27/14}"
      ]
     },
     "execution_count": 13,
     "metadata": {},
     "output_type": "execute_result"
    }
   ],
   "source": [
    "solve((2 * a + 3* b- 8, 10 * a + b - 13), a, b)"
   ]
  },
  {
   "cell_type": "markdown",
   "id": "e88eb39d-c036-4eb9-b992-a778ad2f2aba",
   "metadata": {},
   "source": [
    "$\\begin{pmatrix} 2 & 3 \\\\ 10 & 1 \\end{pmatrix} \\begin{bmatrix} a \\\\ b \\end{bmatrix} = \\begin{bmatrix} 8 \\\\ 13 \\end{bmatrix}$ "
   ]
  },
  {
   "cell_type": "markdown",
   "id": "b8eeda0f-645c-476f-b8a9-6108fe875e14",
   "metadata": {},
   "source": [
    "## How matrices transform space"
   ]
  },
  {
   "cell_type": "code",
   "execution_count": 22,
   "id": "7066b00b-99a2-47ca-b134-dde38d387af7",
   "metadata": {},
   "outputs": [],
   "source": [
    "import numpy as np\n",
    "m = np.array([[2 ,3],[10,1]])\n",
    "v = np.array([[31/28], [27/14]])"
   ]
  },
  {
   "cell_type": "code",
   "execution_count": 23,
   "id": "88bab3f5",
   "metadata": {},
   "outputs": [
    {
     "data": {
      "text/plain": [
       "array([[ 8.],\n",
       "       [13.]])"
      ]
     },
     "execution_count": 23,
     "metadata": {},
     "output_type": "execute_result"
    }
   ],
   "source": [
    "m@v"
   ]
  },
  {
   "cell_type": "code",
   "execution_count": 20,
   "id": "7862d1c9",
   "metadata": {},
   "outputs": [
    {
     "data": {
      "text/plain": [
       "array([1.10714286, 1.92857143])"
      ]
     },
     "execution_count": 20,
     "metadata": {},
     "output_type": "execute_result"
    }
   ],
   "source": [
    "v.T"
   ]
  },
  {
   "cell_type": "code",
   "execution_count": 24,
   "id": "cce2ffec",
   "metadata": {},
   "outputs": [],
   "source": [
    "m = np.array([[7 ,-6],[12,8]])"
   ]
  },
  {
   "cell_type": "code",
   "execution_count": 25,
   "id": "248c3187",
   "metadata": {},
   "outputs": [],
   "source": [
    "v1 = np.array([7, 12]); v2 = np.array([-6,8])"
   ]
  },
  {
   "cell_type": "code",
   "execution_count": 26,
   "id": "69205744",
   "metadata": {},
   "outputs": [
    {
     "data": {
      "text/plain": [
       "array([ -1, 108])"
      ]
     },
     "execution_count": 26,
     "metadata": {},
     "output_type": "execute_result"
    }
   ],
   "source": [
    "5*v1 + 6 * v2"
   ]
  },
  {
   "cell_type": "code",
   "execution_count": 28,
   "id": "d410a2a0",
   "metadata": {},
   "outputs": [
    {
     "data": {
      "text/plain": [
       "array([ -1, 108])"
      ]
     },
     "execution_count": 28,
     "metadata": {},
     "output_type": "execute_result"
    }
   ],
   "source": [
    "m @ [5,6]"
   ]
  },
  {
   "cell_type": "markdown",
   "id": "597cee1d",
   "metadata": {},
   "source": [
    "# Type of Matrix Transformation"
   ]
  },
  {
   "cell_type": "code",
   "execution_count": 35,
   "id": "7cba3b72",
   "metadata": {},
   "outputs": [
    {
     "data": {
      "text/plain": [
       "array([[1., 0.],\n",
       "       [0., 1.]])"
      ]
     },
     "execution_count": 35,
     "metadata": {},
     "output_type": "execute_result"
    }
   ],
   "source": [
    "I = np.eye(2);I # Identity matrix"
   ]
  },
  {
   "cell_type": "code",
   "execution_count": 37,
   "id": "731237e1",
   "metadata": {},
   "outputs": [
    {
     "data": {
      "text/plain": [
       "array([[3, 0],\n",
       "       [0, 2]])"
      ]
     },
     "execution_count": 37,
     "metadata": {},
     "output_type": "execute_result"
    }
   ],
   "source": [
    "Scale = np.diag([3,2]); Scale # scale matrix"
   ]
  },
  {
   "cell_type": "code",
   "execution_count": 38,
   "id": "0c792fa6",
   "metadata": {},
   "outputs": [
    {
     "data": {
      "text/plain": [
       "array([[-1,  0],\n",
       "       [ 0,  2]])"
      ]
     },
     "execution_count": 38,
     "metadata": {},
     "output_type": "execute_result"
    }
   ],
   "source": [
    "Scale2 = np.diag([-1,2]); Scale2 # scale matrix"
   ]
  },
  {
   "cell_type": "markdown",
   "id": "d434e891",
   "metadata": {},
   "source": [
    "### rotation matrix"
   ]
  },
  {
   "cell_type": "code",
   "execution_count": 112,
   "id": "b7982f80",
   "metadata": {},
   "outputs": [
    {
     "data": {
      "text/plain": [
       "array([[ 0.8660254, -0.5      ],\n",
       "       [ 0.5      ,  0.8660254]])"
      ]
     },
     "execution_count": 112,
     "metadata": {},
     "output_type": "execute_result"
    }
   ],
   "source": [
    "theta = np.pi/6\n",
    "c, s = np.cos(theta), np.sin(theta)\n",
    "R = np.array([[c, -s], [s, c]]);R"
   ]
  },
  {
   "cell_type": "markdown",
   "id": "e1fce168",
   "metadata": {},
   "source": [
    "### Composition or combination of matrix transformations"
   ]
  },
  {
   "cell_type": "code",
   "execution_count": 58,
   "id": "06402a1d",
   "metadata": {},
   "outputs": [],
   "source": [
    "A1 = R"
   ]
  },
  {
   "cell_type": "code",
   "execution_count": 87,
   "id": "322170f3",
   "metadata": {},
   "outputs": [],
   "source": [
    "A2 = np.array([[-1, 0.0], [0.0, 1]]) #vertical mirror"
   ]
  },
  {
   "cell_type": "code",
   "execution_count": 92,
   "id": "163181b6",
   "metadata": {},
   "outputs": [
    {
     "data": {
      "text/plain": [
       "array([[ 0., -1.],\n",
       "       [-1.,  0.]])"
      ]
     },
     "execution_count": 92,
     "metadata": {},
     "output_type": "execute_result"
    }
   ],
   "source": [
    "A21=A2@A1\n",
    "np.where(abs(A21)>1e-15,A21,0).round()"
   ]
  },
  {
   "cell_type": "code",
   "execution_count": 93,
   "id": "95aebcf4",
   "metadata": {},
   "outputs": [
    {
     "data": {
      "text/plain": [
       "array([[0., 1.],\n",
       "       [1., 0.]])"
      ]
     },
     "execution_count": 93,
     "metadata": {},
     "output_type": "execute_result"
    }
   ],
   "source": [
    "A12 = A1@A2\n",
    "np.where(abs(A12)>1e-15,A12,0).round()"
   ]
  },
  {
   "cell_type": "markdown",
   "id": "e047fb29",
   "metadata": {},
   "source": [
    "#### Matrix multipication is not commutative"
   ]
  },
  {
   "cell_type": "markdown",
   "id": "95e8c440",
   "metadata": {},
   "source": [
    "#### but Matrix multipication is associative "
   ]
  },
  {
   "cell_type": "markdown",
   "id": "bdbc6749",
   "metadata": {},
   "source": [
    "# Using matrices to make transformations\n",
    "### Practice Quiz"
   ]
  },
  {
   "cell_type": "code",
   "execution_count": 101,
   "id": "6ad53576",
   "metadata": {},
   "outputs": [
    {
     "data": {
      "text/plain": [
       "array([[ 0.5 , -1.  ],\n",
       "       [ 0.  ,  0.75]])"
      ]
     },
     "execution_count": 101,
     "metadata": {},
     "output_type": "execute_result"
    }
   ],
   "source": [
    "A = np.array([[1/2, -1], [0, 3/4]]); A"
   ]
  },
  {
   "cell_type": "code",
   "execution_count": 105,
   "id": "1d18b753",
   "metadata": {},
   "outputs": [
    {
     "data": {
      "text/plain": [
       "array([-5.,  3.])"
      ]
     },
     "execution_count": 105,
     "metadata": {},
     "output_type": "execute_result"
    }
   ],
   "source": [
    "A@[-2, 4]"
   ]
  },
  {
   "cell_type": "code",
   "execution_count": 115,
   "id": "e9cd9b73",
   "metadata": {},
   "outputs": [
    {
     "data": {
      "text/plain": [
       "array([[ 1.,  0.],\n",
       "       [-4.,  8.]])"
      ]
     },
     "execution_count": 115,
     "metadata": {},
     "output_type": "execute_result"
    }
   ],
   "source": [
    "M= np.array([[1, 0], [0, 8]])@ np.array([[1, 0], [-0.5, 1]]);M"
   ]
  },
  {
   "cell_type": "markdown",
   "id": "aee12723",
   "metadata": {},
   "source": [
    "# Solving the apples and bananas problem: Gaussian elimination"
   ]
  },
  {
   "cell_type": "code",
   "execution_count": 144,
   "id": "8b988508",
   "metadata": {},
   "outputs": [
    {
     "data": {
      "text/plain": [
       "array([[1, 1, 3],\n",
       "       [1, 2, 4],\n",
       "       [1, 1, 2]])"
      ]
     },
     "execution_count": 144,
     "metadata": {},
     "output_type": "execute_result"
    }
   ],
   "source": [
    "M = np.array([[1,1,3],[1, 2, 4],[1, 1, 2]]); M"
   ]
  },
  {
   "cell_type": "code",
   "execution_count": 145,
   "id": "4e029244",
   "metadata": {},
   "outputs": [
    {
     "data": {
      "text/plain": [
       "array([[ 1.,  1.,  3.],\n",
       "       [ 0.,  1.,  1.],\n",
       "       [ 0.,  0., -1.]])"
      ]
     },
     "execution_count": 145,
     "metadata": {},
     "output_type": "execute_result"
    }
   ],
   "source": [
    "from scipy.linalg import lu\n",
    "pl, u = lu(M, permute_l=True); u"
   ]
  },
  {
   "cell_type": "code",
   "execution_count": 146,
   "id": "49c54621",
   "metadata": {},
   "outputs": [
    {
     "data": {
      "text/plain": [
       "array([[1., 1., 3.],\n",
       "       [1., 2., 4.],\n",
       "       [1., 1., 2.]])"
      ]
     },
     "execution_count": 146,
     "metadata": {},
     "output_type": "execute_result"
    }
   ],
   "source": [
    "pl@u"
   ]
  },
  {
   "cell_type": "code",
   "execution_count": 147,
   "id": "119d495a",
   "metadata": {},
   "outputs": [
    {
     "data": {
      "text/plain": [
       "array([5., 4., 2.])"
      ]
     },
     "execution_count": 147,
     "metadata": {},
     "output_type": "execute_result"
    }
   ],
   "source": [
    "b = np.array([15, 21, 13])\n",
    "x = np.linalg.solve(M, b);x"
   ]
  },
  {
   "cell_type": "code",
   "execution_count": 148,
   "id": "7d210826",
   "metadata": {},
   "outputs": [
    {
     "data": {
      "text/plain": [
       "array([ 0., -2.,  1.])"
      ]
     },
     "execution_count": 148,
     "metadata": {},
     "output_type": "execute_result"
    }
   ],
   "source": [
    "I1 = np.array([1, 0, 0])\n",
    "b1 = np.linalg.solve(M, I1);b1"
   ]
  },
  {
   "cell_type": "code",
   "execution_count": 149,
   "id": "6b36f805",
   "metadata": {},
   "outputs": [
    {
     "data": {
      "text/plain": [
       "array([-1.,  1., -0.])"
      ]
     },
     "execution_count": 149,
     "metadata": {},
     "output_type": "execute_result"
    }
   ],
   "source": [
    "I2 = np.array([0, 1, 0])\n",
    "b2 = np.linalg.solve(M, I2);b2"
   ]
  },
  {
   "cell_type": "code",
   "execution_count": 160,
   "id": "5dda4d06",
   "metadata": {},
   "outputs": [
    {
     "data": {
      "text/plain": [
       "array([ 2.,  1., -1.])"
      ]
     },
     "execution_count": 160,
     "metadata": {},
     "output_type": "execute_result"
    }
   ],
   "source": [
    "I3 = np.array([0, 0, 1])\n",
    "b3 = np.linalg.solve(M, I3);b3"
   ]
  },
  {
   "cell_type": "code",
   "execution_count": 161,
   "id": "dd0c2c1a",
   "metadata": {},
   "outputs": [
    {
     "data": {
      "text/plain": [
       "array([[ 0., -1.,  2.],\n",
       "       [-2.,  1.,  1.],\n",
       "       [ 1., -0., -1.]])"
      ]
     },
     "execution_count": 161,
     "metadata": {},
     "output_type": "execute_result"
    }
   ],
   "source": [
    "Minv = np.array([b1,b2,b3]).T;Minv"
   ]
  },
  {
   "cell_type": "code",
   "execution_count": 162,
   "id": "b7facfaf",
   "metadata": {},
   "outputs": [
    {
     "data": {
      "text/plain": [
       "array([[1., 0., 0.],\n",
       "       [0., 1., 0.],\n",
       "       [0., 0., 1.]])"
      ]
     },
     "execution_count": 162,
     "metadata": {},
     "output_type": "execute_result"
    }
   ],
   "source": [
    "M@Minv"
   ]
  },
  {
   "cell_type": "code",
   "execution_count": 164,
   "id": "cd252add",
   "metadata": {},
   "outputs": [
    {
     "data": {
      "text/plain": [
       "array([[ True,  True,  True],\n",
       "       [ True,  True,  True],\n",
       "       [ True,  True,  True]])"
      ]
     },
     "execution_count": 164,
     "metadata": {},
     "output_type": "execute_result"
    }
   ],
   "source": [
    "np.linalg.inv(M) == Minv"
   ]
  },
  {
   "cell_type": "markdown",
   "id": "9fc955c5",
   "metadata": {},
   "source": [
    "### Practice Quiz"
   ]
  },
  {
   "cell_type": "code",
   "execution_count": 172,
   "id": "a998c2b6",
   "metadata": {},
   "outputs": [
    {
     "data": {
      "text/plain": [
       "array([[ 4,  6,  2],\n",
       "       [ 3,  4,  1],\n",
       "       [ 2,  8, 13]])"
      ]
     },
     "execution_count": 172,
     "metadata": {},
     "output_type": "execute_result"
    }
   ],
   "source": [
    "M = np.array([[4,6,2],[3, 4, 1],[2, 8, 13]]); M"
   ]
  },
  {
   "cell_type": "code",
   "execution_count": 175,
   "id": "a8d8d6ec",
   "metadata": {},
   "outputs": [
    {
     "data": {
      "text/plain": [
       "array([ 3. , -0.5, -0. ])"
      ]
     },
     "execution_count": 175,
     "metadata": {},
     "output_type": "execute_result"
    }
   ],
   "source": [
    "b = np.array([9, 7, 2])\n",
    "x = np.linalg.solve(M, b);x.round(1)"
   ]
  },
  {
   "cell_type": "markdown",
   "id": "53c7f444",
   "metadata": {},
   "source": [
    "5)"
   ]
  },
  {
   "cell_type": "code",
   "execution_count": 181,
   "id": "e86fbe7d",
   "metadata": {},
   "outputs": [
    {
     "data": {
      "text/plain": [
       "array([3., 7., 5.])"
      ]
     },
     "execution_count": 181,
     "metadata": {},
     "output_type": "execute_result"
    }
   ],
   "source": [
    "A = np.array([[1, 1, 1],\n",
    "             [3, 2, 1],\n",
    "             [2, 1, 2]])\n",
    "s = np.array([15, 28, 23])\n",
    "p = np.linalg.solve(A, s);p.round(1)"
   ]
  },
  {
   "cell_type": "code",
   "execution_count": 183,
   "id": "cb621008",
   "metadata": {},
   "outputs": [
    {
     "data": {
      "text/plain": [
       "array([[-1.5,  0.5,  0.5],\n",
       "       [ 2. ,  0. , -1. ],\n",
       "       [ 0.5, -0.5,  0.5]])"
      ]
     },
     "execution_count": 183,
     "metadata": {},
     "output_type": "execute_result"
    }
   ],
   "source": [
    "np.linalg.inv(A).round(2)"
   ]
  },
  {
   "cell_type": "markdown",
   "id": "48f878cf",
   "metadata": {},
   "source": [
    "# LAB"
   ]
  },
  {
   "cell_type": "markdown",
   "id": "353903fb",
   "metadata": {},
   "source": [
    "# Identifying special matrices\n",
    "## Instructions\n",
    "In this assignment, you shall write a function that will test if a 4×4 matrix is singular, i.e. to determine if an inverse exists, before calculating it.\n",
    "\n",
    "You shall use the method of converting a matrix to echelon form, and testing if this fails by leaving zeros that can’t be removed on the leading diagonal.\n",
    "\n",
    "Don't worry if you've not coded before, a framework for the function has already been written.\n",
    "Look through the code, and you'll be instructed where to make changes.\n",
    "We'll do the first two rows, and you can use this as a guide to do the last two.\n",
    "\n",
    "### Matrices in Python\n",
    "In the *numpy* package in Python, matrices are indexed using zero for the top-most column and left-most row.\n",
    "I.e., the matrix structure looks like this:\n",
    "```python\n",
    "A[0, 0]  A[0, 1]  A[0, 2]  A[0, 3]\n",
    "A[1, 0]  A[1, 1]  A[1, 2]  A[1, 3]\n",
    "A[2, 0]  A[2, 1]  A[2, 2]  A[2, 3]\n",
    "A[3, 0]  A[3, 1]  A[3, 2]  A[3, 3]\n",
    "```\n",
    "You can access the value of each element individually using,\n",
    "```python\n",
    "A[n, m]\n",
    "```\n",
    "which will give the n'th row and m'th column (starting with zero).\n",
    "You can also access a whole row at a time using,\n",
    "```python\n",
    "A[n]\n",
    "```\n",
    "Which you will see will be useful when calculating linear combinations of rows.\n",
    "\n",
    "A final note - Python is sensitive to indentation.\n",
    "All the code you should complete will be at the same level of indentation as the instruction comment.\n",
    "\n",
    "### How to submit\n",
    "Edit the code in the cell below to complete the assignment.\n",
    "Once you are finished and happy with it, press the *Submit Assignment* button at the top of this notebook.\n",
    "\n",
    "Please don't change any of the function names, as these will be checked by the grading script.\n",
    "\n",
    "If you have further questions about submissions or programming assignments, here is a [list](https://www.coursera.org/learn/linear-algebra-machine-learning/discussions/weeks/1/threads/jB4klkn5EeibtBIQyzFmQg) of Q&A. You can also raise an issue on the discussion forum. Good luck!"
   ]
  },
  {
   "cell_type": "code",
   "execution_count": 184,
   "id": "9351fc60",
   "metadata": {},
   "outputs": [],
   "source": [
    "# GRADED FUNCTION\n",
    "import numpy as np\n",
    "\n",
    "# Our function will go through the matrix replacing each row in order turning it into echelon form.\n",
    "# If at any point it fails because it can't put a 1 in the leading diagonal,\n",
    "# we will return the value True, otherwise, we will return False.\n",
    "# There is no need to edit this function.\n",
    "def isSingular(A) :\n",
    "    B = np.array(A, dtype=np.float_) # Make B as a copy of A, since we're going to alter it's values.\n",
    "    try:\n",
    "        fixRowZero(B)\n",
    "        fixRowOne(B)\n",
    "        fixRowTwo(B)\n",
    "        fixRowThree(B)\n",
    "    except MatrixIsSingular:\n",
    "        return True\n",
    "    return False\n",
    "\n",
    "# This next line defines our error flag. For when things go wrong if the matrix is singular.\n",
    "# There is no need to edit this line.\n",
    "class MatrixIsSingular(Exception): pass\n",
    "\n",
    "# For Row Zero, all we require is the first element is equal to 1.\n",
    "# We'll divide the row by the value of A[0, 0].\n",
    "# This will get us in trouble though if A[0, 0] equals 0, so first we'll test for that,\n",
    "# and if this is true, we'll add one of the lower rows to the first one before the division.\n",
    "# We'll repeat the test going down each lower row until we can do the division.\n",
    "# There is no need to edit this function.\n",
    "def fixRowZero(A) :\n",
    "    if A[0,0] == 0 :\n",
    "        A[0] = A[0] + A[1]\n",
    "    if A[0,0] == 0 :\n",
    "        A[0] = A[0] + A[2]\n",
    "    if A[0,0] == 0 :\n",
    "        A[0] = A[0] + A[3]\n",
    "    if A[0,0] == 0 :\n",
    "        raise MatrixIsSingular()\n",
    "    A[0] = A[0] / A[0,0]\n",
    "    return A\n",
    "\n",
    "# First we'll set the sub-diagonal elements to zero, i.e. A[1,0].\n",
    "# Next we want the diagonal element to be equal to one.\n",
    "# We'll divide the row by the value of A[1, 1].\n",
    "# Again, we need to test if this is zero.\n",
    "# If so, we'll add a lower row and repeat setting the sub-diagonal elements to zero.\n",
    "# There is no need to edit this function.\n",
    "def fixRowOne(A) :\n",
    "    A[1] = A[1] - A[1,0] * A[0]\n",
    "    if A[1,1] == 0 :\n",
    "        A[1] = A[1] + A[2]\n",
    "        A[1] = A[1] - A[1,0] * A[0]\n",
    "    if A[1,1] == 0 :\n",
    "        A[1] = A[1] + A[3]\n",
    "        A[1] = A[1] - A[1,0] * A[0]\n",
    "    if A[1,1] == 0 :\n",
    "        raise MatrixIsSingular()\n",
    "    A[1] = A[1] / A[1,1]\n",
    "    return A\n",
    "\n",
    "# This is the first function that you should complete.\n",
    "# Follow the instructions inside the function at each comment.\n",
    "def fixRowTwo(A) :\n",
    "    # Insert code below to set the sub-diagonal elements of row two to zero (there are two of them).\n",
    "    A[2] = A[2] - A[2,0] * A[0]\n",
    "    A[2] = A[2] - A[2,1] * A[1]\n",
    "    # Next we'll test that the diagonal element is not zero.\n",
    "    if A[2,2] == 0 :\n",
    "        # Insert code below that adds a lower row to row 2.\n",
    "        A[2] = A[2] + A[3]\n",
    "        # Now repeat your code which sets the sub-diagonal elements to zero.\n",
    "        A[2] = A[2] - A[2,0] * A[0]\n",
    "        A[2] = A[2] - A[2,1] * A[1]        \n",
    "        \n",
    "    if A[2,2] == 0 :\n",
    "        raise MatrixIsSingular()\n",
    "    # Finally set the diagonal element to one by dividing the whole row by that element.\n",
    "    A[2] = A[2] / A[2,2]\n",
    "    return A\n",
    "\n",
    "# You should also complete this function\n",
    "# Follow the instructions inside the function at each comment.\n",
    "def fixRowThree(A) :\n",
    "    # Insert code below to set the sub-diagonal elements of row three to zero.\n",
    "    A[3] = A[3] - A[3,0] * A[0]\n",
    "    A[3] = A[3] - A[3,1] * A[1]\n",
    "    A[3] = A[3] - A[3,2] * A[2]\n",
    "    \n",
    "    # Complete the if statement to test if the diagonal element is zero.\n",
    "    if A[3,3] == 0 :\n",
    "        raise MatrixIsSingular()\n",
    "    # Transform the row to set the diagonal element to one.\n",
    "    A[3] = A[3] / A[3,3]\n",
    "    return A"
   ]
  },
  {
   "cell_type": "markdown",
   "id": "43fd57ad",
   "metadata": {},
   "source": [
    "## Test your code before submission\n",
    "To test the code you've written above, run the cell (select the cell above, then press the play button [ ▶| ] or press shift-enter).\n",
    "You can then use the code below to test out your function.\n",
    "You don't need to submit this cell; you can edit and run it as much as you like.\n",
    "\n",
    "Try out your code on tricky test cases!"
   ]
  },
  {
   "cell_type": "code",
   "execution_count": 186,
   "id": "4dbfec1b",
   "metadata": {},
   "outputs": [
    {
     "data": {
      "text/plain": [
       "True"
      ]
     },
     "execution_count": 186,
     "metadata": {},
     "output_type": "execute_result"
    }
   ],
   "source": [
    "A = np.array([\n",
    "        [2, 0, 0, 0],\n",
    "        [0, 3, 0, 0],\n",
    "        [0, 0, 4, 4],\n",
    "        [0, 0, 5, 5]\n",
    "    ], dtype=np.float_)\n",
    "isSingular(A)"
   ]
  },
  {
   "cell_type": "code",
   "execution_count": 187,
   "id": "5e924648",
   "metadata": {},
   "outputs": [
    {
     "data": {
      "text/plain": [
       "array([[ 1. ,  7.5, -2.5,  3.5],\n",
       "       [ 2. ,  8. ,  0. ,  4. ],\n",
       "       [ 3. , 12. ,  0. ,  5. ],\n",
       "       [ 1. ,  3. ,  1. ,  3. ]])"
      ]
     },
     "execution_count": 187,
     "metadata": {},
     "output_type": "execute_result"
    }
   ],
   "source": [
    "A = np.array([\n",
    "        [0, 7, -5, 3],\n",
    "        [2, 8, 0, 4],\n",
    "        [3, 12, 0, 5],\n",
    "        [1, 3, 1, 3]\n",
    "    ], dtype=np.float_)\n",
    "fixRowZero(A)"
   ]
  },
  {
   "cell_type": "code",
   "execution_count": 188,
   "id": "fa782204",
   "metadata": {},
   "outputs": [
    {
     "data": {
      "text/plain": [
       "array([[ 1.        ,  7.5       , -2.5       ,  3.5       ],\n",
       "       [-0.        ,  1.        , -0.71428571,  0.42857143],\n",
       "       [ 3.        , 12.        ,  0.        ,  5.        ],\n",
       "       [ 1.        ,  3.        ,  1.        ,  3.        ]])"
      ]
     },
     "execution_count": 188,
     "metadata": {},
     "output_type": "execute_result"
    }
   ],
   "source": [
    "fixRowOne(A)"
   ]
  },
  {
   "cell_type": "code",
   "execution_count": 189,
   "id": "bd5cf50a",
   "metadata": {},
   "outputs": [
    {
     "data": {
      "text/plain": [
       "array([[ 1.        ,  7.5       , -2.5       ,  3.5       ],\n",
       "       [-0.        ,  1.        , -0.71428571,  0.42857143],\n",
       "       [ 0.        ,  0.        ,  1.        ,  1.5       ],\n",
       "       [ 1.        ,  3.        ,  1.        ,  3.        ]])"
      ]
     },
     "execution_count": 189,
     "metadata": {},
     "output_type": "execute_result"
    }
   ],
   "source": [
    "fixRowTwo(A)"
   ]
  },
  {
   "cell_type": "code",
   "execution_count": 190,
   "id": "eec87e30",
   "metadata": {},
   "outputs": [
    {
     "data": {
      "text/plain": [
       "array([[ 1.        ,  7.5       , -2.5       ,  3.5       ],\n",
       "       [-0.        ,  1.        , -0.71428571,  0.42857143],\n",
       "       [ 0.        ,  0.        ,  1.        ,  1.5       ],\n",
       "       [ 0.        ,  0.        ,  0.        ,  1.        ]])"
      ]
     },
     "execution_count": 190,
     "metadata": {},
     "output_type": "execute_result"
    }
   ],
   "source": [
    "fixRowThree(A)"
   ]
  },
  {
   "cell_type": "code",
   "execution_count": null,
   "id": "45c28ce9",
   "metadata": {},
   "outputs": [],
   "source": []
  }
 ],
 "metadata": {
  "kernelspec": {
   "display_name": "math_for_ML",
   "language": "python",
   "name": "math_for_ml"
  },
  "language_info": {
   "codemirror_mode": {
    "name": "ipython",
    "version": 3
   },
   "file_extension": ".py",
   "mimetype": "text/x-python",
   "name": "python",
   "nbconvert_exporter": "python",
   "pygments_lexer": "ipython3",
   "version": "3.9.5"
  }
 },
 "nbformat": 4,
 "nbformat_minor": 5
}
