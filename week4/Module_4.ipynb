{
 "cells": [
  {
   "cell_type": "markdown",
   "id": "4c96a20a-3262-439d-a728-347e967ce0c5",
   "metadata": {},
   "source": [
    "# Mathematics for Machine Learning: Linear Algebra\n",
    "## Week4\n",
    "## Module 4:\n",
    "\n",
    "### Matrices, Multiple Mappings, basis transformation"
   ]
  },
  {
   "cell_type": "markdown",
   "id": "20b54a9d-c10b-4613-86d2-84998227f8dc",
   "metadata": {},
   "source": [
    "### Introduction: Einstein summation convention and the symmetry of the dot product\n",
    "### Non-square matrix multiplication\n",
    "#### Practice Quiz"
   ]
  },
  {
   "cell_type": "code",
   "execution_count": 1,
   "id": "be28153f-8764-4f1c-aaae-dd034f93a7ad",
   "metadata": {},
   "outputs": [],
   "source": [
    "import numpy as np"
   ]
  },
  {
   "cell_type": "code",
   "execution_count": 2,
   "id": "822ed199",
   "metadata": {},
   "outputs": [],
   "source": [
    "# Q1-2\n",
    "A = np.array([[1, 2 , 3],[4, 0, 1]])\n",
    "B = np.array([[1, 1, 0], [0, 1, 1], [1, 0, 1]])"
   ]
  },
  {
   "cell_type": "code",
   "execution_count": 3,
   "id": "4b5282d4-441c-4d59-a645-1f1bfc889f8b",
   "metadata": {},
   "outputs": [
    {
     "name": "stdout",
     "output_type": "stream",
     "text": [
      "[[4 3 5]\n",
      " [5 4 1]]\n"
     ]
    }
   ],
   "source": [
    "C = A@B\n",
    "print(C)"
   ]
  },
  {
   "cell_type": "code",
   "execution_count": 4,
   "id": "ea9c5825",
   "metadata": {},
   "outputs": [
    {
     "data": {
      "text/plain": [
       "30"
      ]
     },
     "execution_count": 4,
     "metadata": {},
     "output_type": "execute_result"
    }
   ],
   "source": [
    "# Q3:\n",
    "np.array([2, 4, 5, 6,])@np.array([1, 3, 2, 1])"
   ]
  },
  {
   "cell_type": "code",
   "execution_count": 5,
   "id": "7326a0a9",
   "metadata": {},
   "outputs": [
    {
     "data": {
      "text/plain": [
       "matrix([[ 2,  4,  5,  6],\n",
       "        [ 6, 12, 15, 18],\n",
       "        [ 4,  8, 10, 12],\n",
       "        [ 2,  4,  5,  6]])"
      ]
     },
     "execution_count": 5,
     "metadata": {},
     "output_type": "execute_result"
    }
   ],
   "source": [
    "# Q4:\n",
    "np.matrix('1; 3; 2; 1')@np.matrix('2, 4, 5, 6')"
   ]
  },
  {
   "cell_type": "code",
   "execution_count": 6,
   "id": "428558ce",
   "metadata": {},
   "outputs": [
    {
     "data": {
      "text/plain": [
       "matrix([[ 2,  2,  8, -4],\n",
       "        [-6,  0,  0,  6],\n",
       "        [ 0,  1,  4, -1]])"
      ]
     },
     "execution_count": 6,
     "metadata": {},
     "output_type": "execute_result"
    }
   ],
   "source": [
    "# Q5:\n",
    "np.matrix('2,-1;0, 3; 1, 0')@np.matrix([[0, 1, 4, -1],[-2, 0, 0, 2]])"
   ]
  },
  {
   "cell_type": "code",
   "execution_count": 7,
   "id": "d82c4d2f",
   "metadata": {},
   "outputs": [
    {
     "data": {
      "text/plain": [
       "matrix([[1., 2., 3.],\n",
       "        [4., 5., 6.]])"
      ]
     },
     "execution_count": 7,
     "metadata": {},
     "output_type": "execute_result"
    }
   ],
   "source": [
    "# Q7\n",
    "np.eye(2)@np.matrix([[1, 2, 3],[4, 5, 6]])"
   ]
  },
  {
   "cell_type": "markdown",
   "id": "b8eeda0f-645c-476f-b8a9-6108fe875e14",
   "metadata": {},
   "source": [
    "## Orthogonal matrices"
   ]
  },
  {
   "cell_type": "markdown",
   "id": "7f84d91c",
   "metadata": {},
   "source": [
    "### The Gram–Schmidt process"
   ]
  },
  {
   "cell_type": "code",
   "execution_count": 8,
   "id": "dee6273c",
   "metadata": {},
   "outputs": [],
   "source": [
    "from grahm_shmidt import *\n"
   ]
  },
  {
   "cell_type": "code",
   "execution_count": 9,
   "id": "10bcb6ce",
   "metadata": {},
   "outputs": [
    {
     "data": {
      "text/plain": [
       "array([[ 0.40824829, -0.1814885 ,  0.04982278,  0.89325973],\n",
       "       [ 0.        ,  0.1088931 ,  0.99349591, -0.03328918],\n",
       "       [ 0.81649658,  0.50816781, -0.06462163, -0.26631346],\n",
       "       [ 0.40824829, -0.83484711,  0.07942048, -0.36063281]])"
      ]
     },
     "execution_count": 9,
     "metadata": {},
     "output_type": "execute_result"
    }
   ],
   "source": [
    "V = np.array([[1,0,2,6],\n",
    "              [0,1,8,2],\n",
    "              [2,8,3,1],\n",
    "              [1,-6,2,3]], dtype=np.float_)\n",
    "gsBasis4(V)"
   ]
  },
  {
   "cell_type": "code",
   "execution_count": 10,
   "id": "0ac9406f",
   "metadata": {},
   "outputs": [
    {
     "data": {
      "text/plain": [
       "array([[ 0.40824829, -0.1814885 ,  0.04982278,  0.89325973],\n",
       "       [ 0.        ,  0.1088931 ,  0.99349591, -0.03328918],\n",
       "       [ 0.81649658,  0.50816781, -0.06462163, -0.26631346],\n",
       "       [ 0.40824829, -0.83484711,  0.07942048, -0.36063281]])"
      ]
     },
     "execution_count": 10,
     "metadata": {},
     "output_type": "execute_result"
    }
   ],
   "source": [
    "# Once you've done Gram-Schmidt once,\n",
    "# doing it again should give you the same result. Test this:\n",
    "U = gsBasis4(V)\n",
    "gsBasis4(U)"
   ]
  },
  {
   "cell_type": "code",
   "execution_count": 11,
   "id": "933b9e70",
   "metadata": {},
   "outputs": [
    {
     "data": {
      "text/plain": [
       "array([[ 0.40824829, -0.1814885 ,  0.04982278,  0.89325973],\n",
       "       [ 0.        ,  0.1088931 ,  0.99349591, -0.03328918],\n",
       "       [ 0.81649658,  0.50816781, -0.06462163, -0.26631346],\n",
       "       [ 0.40824829, -0.83484711,  0.07942048, -0.36063281]])"
      ]
     },
     "execution_count": 11,
     "metadata": {},
     "output_type": "execute_result"
    }
   ],
   "source": [
    "# Try the general function too.\n",
    "gsBasis(V)"
   ]
  },
  {
   "cell_type": "code",
   "execution_count": 12,
   "id": "fbd81c69",
   "metadata": {},
   "outputs": [],
   "source": [
    "assert (gsBasis(V) == gsBasis4(V)).all"
   ]
  },
  {
   "cell_type": "code",
   "execution_count": 13,
   "id": "a033a34f",
   "metadata": {},
   "outputs": [
    {
     "data": {
      "text/plain": [
       "array([[ 0.23643312,  0.18771349,  0.22132104],\n",
       "       [ 0.15762208,  0.74769023, -0.64395812],\n",
       "       [ 0.15762208,  0.57790444,  0.72904263],\n",
       "       [ 0.94573249, -0.26786082, -0.06951101]])"
      ]
     },
     "execution_count": 13,
     "metadata": {},
     "output_type": "execute_result"
    }
   ],
   "source": [
    "# See what happens for non-square matrices\n",
    "A = np.array([[3,2,3],\n",
    "              [2,5,-1],\n",
    "              [2,4,8],\n",
    "              [12,2,1]], dtype=np.float_)\n",
    "gsBasis(A)"
   ]
  },
  {
   "cell_type": "code",
   "execution_count": 14,
   "id": "b6ad4151",
   "metadata": {},
   "outputs": [
    {
     "data": {
      "text/plain": [
       "3.0"
      ]
     },
     "execution_count": 14,
     "metadata": {},
     "output_type": "execute_result"
    }
   ],
   "source": [
    "dimensions(A)"
   ]
  },
  {
   "cell_type": "code",
   "execution_count": 15,
   "id": "b6c7b493",
   "metadata": {},
   "outputs": [
    {
     "data": {
      "text/plain": [
       "array([[ 0.93704257, -0.12700832, -0.32530002,  0.        ,  0.        ],\n",
       "       [ 0.31234752,  0.72140727,  0.61807005,  0.        ,  0.        ],\n",
       "       [ 0.15617376, -0.6807646 ,  0.71566005,  0.        ,  0.        ]])"
      ]
     },
     "execution_count": 15,
     "metadata": {},
     "output_type": "execute_result"
    }
   ],
   "source": [
    "B = np.array([[6,2,1,7,5],\n",
    "              [2,8,5,-4,1],\n",
    "              [1,-6,3,2,8]], dtype=np.float_)\n",
    "gsBasis(B)"
   ]
  },
  {
   "cell_type": "code",
   "execution_count": 16,
   "id": "45a00704",
   "metadata": {},
   "outputs": [
    {
     "data": {
      "text/plain": [
       "3.0"
      ]
     },
     "execution_count": 16,
     "metadata": {},
     "output_type": "execute_result"
    }
   ],
   "source": [
    "dimensions(B)"
   ]
  },
  {
   "cell_type": "code",
   "execution_count": 17,
   "id": "9e152ed6",
   "metadata": {},
   "outputs": [
    {
     "data": {
      "text/plain": [
       "array([[0.70710678, 0.        , 0.        ],\n",
       "       [0.        , 1.        , 0.        ],\n",
       "       [0.70710678, 0.        , 0.        ]])"
      ]
     },
     "execution_count": 17,
     "metadata": {},
     "output_type": "execute_result"
    }
   ],
   "source": [
    "# Now let's see what happens when we have one vector that is a linear combination of the others.\n",
    "C = np.array([[1,0,2],\n",
    "              [0,1,-3],\n",
    "              [1,0,2]], dtype=np.float_)\n",
    "gsBasis(C)"
   ]
  },
  {
   "cell_type": "code",
   "execution_count": 18,
   "id": "a0ac7bf3",
   "metadata": {},
   "outputs": [
    {
     "data": {
      "text/plain": [
       "2.0"
      ]
     },
     "execution_count": 18,
     "metadata": {},
     "output_type": "execute_result"
    }
   ],
   "source": [
    "dimensions(C)"
   ]
  },
  {
   "cell_type": "markdown",
   "id": "9746b675",
   "metadata": {},
   "source": [
    "## Example: Reflecting in a plane"
   ]
  },
  {
   "cell_type": "code",
   "execution_count": 19,
   "id": "8e8d38f5",
   "metadata": {},
   "outputs": [
    {
     "name": "stdout",
     "output_type": "stream",
     "text": [
      "[[ 1  2  3]\n",
      " [ 1  0  1]\n",
      " [ 1  1 -1]]\n"
     ]
    }
   ],
   "source": [
    "v1 = np.array([1, 1, 1])\n",
    "v2 = np.array([2, 0, 1])\n",
    "v3 = np.array([3, 1, -1])\n",
    "A = np.array([v1,v2,v3]).T\n",
    "print(A)"
   ]
  },
  {
   "cell_type": "code",
   "execution_count": 20,
   "id": "f62ec6df",
   "metadata": {},
   "outputs": [
    {
     "name": "stdout",
     "output_type": "stream",
     "text": [
      "[[ 0.5774  0.7071  0.4082]\n",
      " [ 0.5774 -0.7071  0.4082]\n",
      " [ 0.5774 -0.     -0.8165]]\n"
     ]
    }
   ],
   "source": [
    "B = gsBasis(A)\n",
    "np.set_printoptions(precision=4)\n",
    "np.set_printoptions(suppress=True)\n",
    "print(B)\n",
    "e1 = B[:,0]\n",
    "e2 = B[:,1]\n",
    "e3 = B[:,2]\n",
    "assert abs(e1@e2) < 1e-14 # to make sure it is orthonormal\n",
    "assert abs(e1@e3) < 1e-14\n",
    "assert abs(e2@e3) < 1e-14"
   ]
  },
  {
   "cell_type": "code",
   "execution_count": 21,
   "id": "98d0d70e",
   "metadata": {},
   "outputs": [],
   "source": [
    "r = np.array([2,3,5])\n",
    "T_e = np.eye(3)\n",
    "T_e[2,2] = -1\n",
    "r_e = B.T@r\n",
    "r_e_p = T_e@r_e\n",
    "r_p = B @r_e_p"
   ]
  },
  {
   "cell_type": "code",
   "execution_count": 22,
   "id": "5d590515",
   "metadata": {},
   "outputs": [],
   "source": [
    "T = B@T_e@B.T"
   ]
  },
  {
   "cell_type": "code",
   "execution_count": 23,
   "id": "afe23cd3",
   "metadata": {},
   "outputs": [],
   "source": [
    "assert (r_p - T@r < 1e-14 ).all"
   ]
  },
  {
   "cell_type": "code",
   "execution_count": 24,
   "id": "a313b504",
   "metadata": {},
   "outputs": [
    {
     "name": "stdout",
     "output_type": "stream",
     "text": [
      "[[ 0.6667 -0.3333  0.6667]\n",
      " [-0.3333  0.6667  0.6667]\n",
      " [ 0.6667  0.6667 -0.3333]]\n",
      "[3.6667 4.6667 1.6667]\n"
     ]
    },
    {
     "data": {
      "text/plain": [
       "array([0., 0., 0.])"
      ]
     },
     "execution_count": 24,
     "metadata": {},
     "output_type": "execute_result"
    }
   ],
   "source": [
    "print(T)\n",
    "print(r_p)\n",
    "r_p - 1/3*np.array([11,14,5])"
   ]
  },
  {
   "cell_type": "code",
   "execution_count": 25,
   "id": "52569d95",
   "metadata": {},
   "outputs": [],
   "source": [
    "# In this function, you will return the transformation matrix T,\n",
    "# having built it out of an orthonormal basis set E that you create from Bear's Basis\n",
    "# and a transformation matrix in the mirror's coordinates TE.\n",
    "def build_reflection_matrix(bearBasis) : # The parameter bearBasis is a 2×2 matrix that is passed to the function.\n",
    "    # Use the gsBasis function on bearBasis to get the mirror's orthonormal basis.\n",
    "    E = gsBasis(bearBasis)\n",
    "    # Write a matrix in component form that performs the mirror's reflection in the mirror's basis.\n",
    "    # Recall, the mirror operates by negating the last component of a vector.\n",
    "    # Replace a,b,c,d with appropriate values\n",
    "    TE = np.array([[1, 0],\n",
    "                   [0, -1]])\n",
    "    # Combine the matrices E and TE to produce your transformation matrix.\n",
    "    T = E.T@TE@E\n",
    "    # Finally, we return the result. There is no need to change this line.\n",
    "    return T"
   ]
  },
  {
   "cell_type": "markdown",
   "id": "67b9eb43",
   "metadata": {},
   "source": [
    "## Test your code before submission\n",
    "To test the code you've written above, run the cell (select the cell above, then press the play button [ ▶| ] or press shift-enter).\n",
    "You can then use the code below to test out your function.\n",
    "You don't need to submit this cell; you can edit and run it as much as you like.\n",
    "\n",
    "The code below will show a picture of Panda Bear.\n",
    "If you have correctly implemented the function above, you will also see Bear's reflection in his mirror.\n",
    "The orange axes are Bear's basis, and the pink axes are the mirror's orthonormal basis."
   ]
  },
  {
   "cell_type": "code",
   "execution_count": 26,
   "id": "dbaf19db",
   "metadata": {},
   "outputs": [
    {
     "ename": "NameError",
     "evalue": "name 'bear_white_fur' is not defined",
     "output_type": "error",
     "traceback": [
      "\u001b[0;31m---------------------------------------------------------------------------\u001b[0m",
      "\u001b[0;31mNameError\u001b[0m                                 Traceback (most recent call last)",
      "\u001b[0;32m<ipython-input-26-54b223cc95fd>\u001b[0m in \u001b[0;36m<module>\u001b[0;34m\u001b[0m\n\u001b[1;32m     14\u001b[0m \u001b[0;31m# We have three of these non-square matrix lists: bear_white_fur, bear_black_fur, and bear_face.\u001b[0m\u001b[0;34m\u001b[0m\u001b[0;34m\u001b[0m\u001b[0;34m\u001b[0m\u001b[0m\n\u001b[1;32m     15\u001b[0m \u001b[0;31m# We'll make new lists of vertices by applying the T matrix you've calculated.\u001b[0m\u001b[0;34m\u001b[0m\u001b[0;34m\u001b[0m\u001b[0;34m\u001b[0m\u001b[0m\n\u001b[0;32m---> 16\u001b[0;31m \u001b[0mreflected_bear_white_fur\u001b[0m \u001b[0;34m=\u001b[0m \u001b[0mT\u001b[0m \u001b[0;34m@\u001b[0m \u001b[0mbear_white_fur\u001b[0m\u001b[0;34m\u001b[0m\u001b[0;34m\u001b[0m\u001b[0m\n\u001b[0m\u001b[1;32m     17\u001b[0m \u001b[0mreflected_bear_black_fur\u001b[0m \u001b[0;34m=\u001b[0m \u001b[0mT\u001b[0m \u001b[0;34m@\u001b[0m \u001b[0mbear_black_fur\u001b[0m\u001b[0;34m\u001b[0m\u001b[0;34m\u001b[0m\u001b[0m\n\u001b[1;32m     18\u001b[0m \u001b[0mreflected_bear_face\u001b[0m \u001b[0;34m=\u001b[0m \u001b[0mT\u001b[0m \u001b[0;34m@\u001b[0m \u001b[0mbear_face\u001b[0m\u001b[0;34m\u001b[0m\u001b[0;34m\u001b[0m\u001b[0m\n",
      "\u001b[0;31mNameError\u001b[0m: name 'bear_white_fur' is not defined"
     ]
    }
   ],
   "source": [
    "# First load Pyplot, a graph plotting library.\n",
    "%matplotlib inline\n",
    "import matplotlib.pyplot as plt\n",
    "\n",
    "# This is the matrix of Bear's basis vectors.\n",
    "# (When you've done the exercise once, see what happns when you change Bear's basis.)\n",
    "bearBasis = np.array(\n",
    "    [[1,   -1],\n",
    "     [1.5, 2]])\n",
    "# This line uses your code to build a transformation matrix for us to use.\n",
    "T = build_reflection_matrix(bearBasis)\n",
    "\n",
    "# Bear is drawn as a set of polygons, the vertices of which are placed as a matrix list of column vectors.\n",
    "# We have three of these non-square matrix lists: bear_white_fur, bear_black_fur, and bear_face.\n",
    "# We'll make new lists of vertices by applying the T matrix you've calculated.\n",
    "reflected_bear_white_fur = T @ bear_white_fur\n",
    "reflected_bear_black_fur = T @ bear_black_fur\n",
    "reflected_bear_face = T @ bear_face\n",
    "\n",
    "# This next line runs a code to set up the graphics environment.\n",
    "ax = draw_mirror(bearBasis)\n",
    "\n",
    "# We'll first plot Bear, his white fur, his black fur, and his face.\n",
    "ax.fill(bear_white_fur[0], bear_white_fur[1], color=bear_white, zorder=1)\n",
    "ax.fill(bear_black_fur[0], bear_black_fur[1], color=bear_black, zorder=2)\n",
    "ax.plot(bear_face[0], bear_face[1], color=bear_white, zorder=3)\n",
    "\n",
    "# Next we'll plot Bear's reflection.\n",
    "ax.fill(reflected_bear_white_fur[0], reflected_bear_white_fur[1], color=bear_white, zorder=1)\n",
    "ax.fill(reflected_bear_black_fur[0], reflected_bear_black_fur[1], color=bear_black, zorder=2)\n",
    "ax.plot(reflected_bear_face[0], reflected_bear_face[1], color=bear_white, zorder=3);"
   ]
  }
 ],
 "metadata": {
  "kernelspec": {
   "display_name": "math_for_ML",
   "language": "python",
   "name": "math_for_ml"
  },
  "language_info": {
   "codemirror_mode": {
    "name": "ipython",
    "version": 3
   },
   "file_extension": ".py",
   "mimetype": "text/x-python",
   "name": "python",
   "nbconvert_exporter": "python",
   "pygments_lexer": "ipython3",
   "version": "3.9.5"
  }
 },
 "nbformat": 4,
 "nbformat_minor": 5
}
