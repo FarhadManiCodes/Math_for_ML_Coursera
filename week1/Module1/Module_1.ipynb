{
 "cells": [
  {
   "cell_type": "markdown",
   "id": "4c96a20a-3262-439d-a728-347e967ce0c5",
   "metadata": {},
   "source": [
    "# Mathematics for Machine Learning: Linear Algebra\n",
    "## Week1\n",
    "## Module 1:\n",
    "\n",
    "### The relationship between machine learning, linear algebra, and vectors and matrices"
   ]
  },
  {
   "cell_type": "markdown",
   "id": "20b54a9d-c10b-4613-86d2-84998227f8dc",
   "metadata": {},
   "source": [
    "#### Motivations for linear algebra"
   ]
  },
  {
   "cell_type": "code",
   "execution_count": 1,
   "id": "be28153f-8764-4f1c-aaae-dd034f93a7ad",
   "metadata": {},
   "outputs": [],
   "source": [
    "from sympy import solve, Poly, Eq, Function, exp\n",
    "\n",
    "from sympy.abc import x, y, z, a, b"
   ]
  },
  {
   "cell_type": "markdown",
   "id": "7c3a8dcd-407c-4f94-8bd4-09ce79c41f6b",
   "metadata": {},
   "source": [
    "$2a + 3b = 8$\n",
    "\n",
    "$10a +1b = 13$"
   ]
  },
  {
   "cell_type": "code",
   "execution_count": 5,
   "id": "4b5282d4-441c-4d59-a645-1f1bfc889f8b",
   "metadata": {},
   "outputs": [
    {
     "data": {
      "text/plain": [
       "{a: 19/14, b: -4/7}"
      ]
     },
     "execution_count": 5,
     "metadata": {},
     "output_type": "execute_result"
    }
   ],
   "source": [
    "solve((2 * a + 3* b- 1, 10 * a + b - 13), a, b)"
   ]
  },
  {
   "cell_type": "markdown",
   "id": "e88eb39d-c036-4eb9-b992-a778ad2f2aba",
   "metadata": {},
   "source": [
    "$\\begin{pmatrix} 2 & 3 \\\\ 10 & 1 \\end{pmatrix} \\begin{bmatrix} a \\\\ b \\end{bmatrix} = \\begin{bmatrix} 8 \\\\ 13 \\end{bmatrix}$ "
   ]
  },
  {
   "cell_type": "markdown",
   "id": "b8eeda0f-645c-476f-b8a9-6108fe875e14",
   "metadata": {},
   "source": [
    "## Getting a handle on vectors"
   ]
  },
  {
   "cell_type": "markdown",
   "id": "a520bada-c7f7-48c9-89d1-91577eb2300b",
   "metadata": {},
   "source": [
    "# Operations with vectors"
   ]
  },
  {
   "cell_type": "code",
   "execution_count": 18,
   "id": "ac5e1671-0daf-4fb9-bb93-0d1b4c9f54a2",
   "metadata": {},
   "outputs": [
    {
     "name": "stdout",
     "output_type": "stream",
     "text": [
      "r + s = [2 4]\n",
      "s + r = [2 4]\n"
     ]
    }
   ],
   "source": [
    "import numpy as np\n",
    "r = [3,2]\n",
    "s = [-1,2]\n",
    "print(f'r + s = {np.add(r,s)}')\n",
    "print(f's + r = {np.add(s,r)}')"
   ]
  },
  {
   "cell_type": "code",
   "execution_count": 20,
   "id": "e0f5cfa2-85a8-434f-a3eb-a916ff6b7bb2",
   "metadata": {},
   "outputs": [
    {
     "data": {
      "text/plain": [
       "array([0., 1., 2., 3., 4., 5., 6., 7., 8.])"
      ]
     },
     "execution_count": 20,
     "metadata": {},
     "output_type": "execute_result"
    }
   ],
   "source": [
    "np.arange(9.0)"
   ]
  },
  {
   "cell_type": "code",
   "execution_count": 21,
   "id": "ce6b467c-8c14-4ccf-8a40-78cafd232adf",
   "metadata": {},
   "outputs": [
    {
     "data": {
      "text/plain": [
       "array([[0., 1., 2.],\n",
       "       [3., 4., 5.],\n",
       "       [6., 7., 8.]])"
      ]
     },
     "execution_count": 21,
     "metadata": {},
     "output_type": "execute_result"
    }
   ],
   "source": [
    "np.arange(9.0).reshape((3, 3))"
   ]
  },
  {
   "cell_type": "code",
   "execution_count": 22,
   "id": "1fa11129-9543-4196-b039-8c840b785b39",
   "metadata": {},
   "outputs": [
    {
     "data": {
      "text/plain": [
       "array([0., 1., 2.])"
      ]
     },
     "execution_count": 22,
     "metadata": {},
     "output_type": "execute_result"
    }
   ],
   "source": [
    "np.arange(3.0)"
   ]
  },
  {
   "cell_type": "code",
   "execution_count": 23,
   "id": "7acda71c-c6e0-4a1a-8a51-5bfbcb4ad295",
   "metadata": {},
   "outputs": [
    {
     "data": {
      "text/plain": [
       "array([[ 0.,  2.,  4.],\n",
       "       [ 3.,  5.,  7.],\n",
       "       [ 6.,  8., 10.]])"
      ]
     },
     "execution_count": 23,
     "metadata": {},
     "output_type": "execute_result"
    }
   ],
   "source": [
    "x1 = np.arange(9.0).reshape((3, 3))\n",
    "\n",
    "x2 = np.arange(3.0)\n",
    "\n",
    "x1 + x2"
   ]
  },
  {
   "cell_type": "code",
   "execution_count": 32,
   "id": "03986a2c-48cc-449f-b4e8-c1fef9746f21",
   "metadata": {},
   "outputs": [
    {
     "name": "stdout",
     "output_type": "stream",
     "text": [
      "2*r = [6, 4]\n"
     ]
    }
   ],
   "source": [
    "r2 = [2*x for x in r]\n",
    "print(f'2*r = {r2}')"
   ]
  },
  {
   "cell_type": "code",
   "execution_count": 34,
   "id": "d3997a47-8e1e-4bf2-8293-b1fc509a0568",
   "metadata": {},
   "outputs": [
    {
     "data": {
      "text/plain": [
       "array([2, 4, 6])"
      ]
     },
     "execution_count": 34,
     "metadata": {},
     "output_type": "execute_result"
    }
   ],
   "source": [
    "np.array([1, 2, 3]) * 2"
   ]
  },
  {
   "cell_type": "code",
   "execution_count": 40,
   "id": "4c5f6d4d-199d-4c43-b47e-89a64e848ac5",
   "metadata": {},
   "outputs": [],
   "source": [
    "r = np.array([3,2])\n",
    "s = np.array([-1,2])"
   ]
  },
  {
   "cell_type": "code",
   "execution_count": 43,
   "id": "db1dfd21-a6f5-4fd4-8e8c-060ec1222c61",
   "metadata": {},
   "outputs": [
    {
     "name": "stdout",
     "output_type": "stream",
     "text": [
      " r-r = [0 0]\n",
      " r-s = [4 0]\n",
      " s-r = [-4  0]\n"
     ]
    }
   ],
   "source": [
    "print(f' r-r = {r-r}')\n",
    "print(f' r-s = {r-s}')\n",
    "print(f' s-r = {s-r}')"
   ]
  },
  {
   "cell_type": "code",
   "execution_count": 52,
   "id": "6def03fb-8cef-4970-a3f5-6b7ef51fd322",
   "metadata": {},
   "outputs": [
    {
     "data": {
      "text/plain": [
       "array([240,   4,   2, 300])"
      ]
     },
     "execution_count": 52,
     "metadata": {},
     "output_type": "execute_result"
    }
   ],
   "source": [
    "house = np.array([120,2,1,150])\n",
    "2*house"
   ]
  },
  {
   "cell_type": "code",
   "execution_count": 51,
   "id": "56d306b3-3021-4d17-b19e-546e98894e41",
   "metadata": {},
   "outputs": [
    {
     "data": {
      "text/plain": [
       "array([240,   4,   2, 300])"
      ]
     },
     "execution_count": 51,
     "metadata": {},
     "output_type": "execute_result"
    }
   ],
   "source": [
    "house + house"
   ]
  },
  {
   "cell_type": "code",
   "execution_count": null,
   "id": "7066b00b-99a2-47ca-b134-dde38d387af7",
   "metadata": {},
   "outputs": [],
   "source": []
  }
 ],
 "metadata": {
  "kernelspec": {
   "display_name": "math_for_ML",
   "language": "python",
   "name": "math_for_ml"
  },
  "language_info": {
   "codemirror_mode": {
    "name": "ipython",
    "version": 3
   },
   "file_extension": ".py",
   "mimetype": "text/x-python",
   "name": "python",
   "nbconvert_exporter": "python",
   "pygments_lexer": "ipython3",
   "version": "3.9.5"
  }
 },
 "nbformat": 4,
 "nbformat_minor": 5
}
