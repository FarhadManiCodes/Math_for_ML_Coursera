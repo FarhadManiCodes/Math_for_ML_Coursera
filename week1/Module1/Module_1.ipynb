{
 "cells": [
  {
   "cell_type": "markdown",
   "id": "4c96a20a-3262-439d-a728-347e967ce0c5",
   "metadata": {},
   "source": [
    "# Mathematics for Machine Learning: Linear Algebra\n",
    "## Week1\n",
    "## Module 1:\n",
    "\n",
    "### The relationship between machine learning, linear algebra, and vectors and matrices"
   ]
  },
  {
   "cell_type": "markdown",
   "id": "20b54a9d-c10b-4613-86d2-84998227f8dc",
   "metadata": {},
   "source": [
    "#### Motivations for linear algebra"
   ]
  },
  {
   "cell_type": "code",
   "execution_count": 1,
   "id": "be28153f-8764-4f1c-aaae-dd034f93a7ad",
   "metadata": {},
   "outputs": [],
   "source": [
    "from sympy import solve, Poly, Eq, Function, exp\n",
    "\n",
    "from sympy.abc import x, y, z, a, b"
   ]
  },
  {
   "cell_type": "markdown",
   "id": "7c3a8dcd-407c-4f94-8bd4-09ce79c41f6b",
   "metadata": {},
   "source": [
    "$2a + 3b = 8$\n",
    "\n",
    "$10a +1b = 13$"
   ]
  },
  {
   "cell_type": "code",
   "execution_count": 5,
   "id": "4b5282d4-441c-4d59-a645-1f1bfc889f8b",
   "metadata": {},
   "outputs": [
    {
     "data": {
      "text/plain": [
       "{a: 19/14, b: -4/7}"
      ]
     },
     "execution_count": 5,
     "metadata": {},
     "output_type": "execute_result"
    }
   ],
   "source": [
    "solve((2 * a + 3* b- 1, 10 * a + b - 13), a, b)"
   ]
  },
  {
   "cell_type": "markdown",
   "id": "e88eb39d-c036-4eb9-b992-a778ad2f2aba",
   "metadata": {},
   "source": [
    "$\\begin{pmatrix} 2 & 3 \\\\ 10 & 1 \\end{pmatrix} \\begin{bmatrix} a \\\\ b \\end{bmatrix} = \\begin{bmatrix} 8 \\\\ 13 \\end{bmatrix}$ "
   ]
  },
  {
   "cell_type": "markdown",
   "id": "b8eeda0f-645c-476f-b8a9-6108fe875e14",
   "metadata": {},
   "source": [
    "## Getting a handle on vectors"
   ]
  },
  {
   "cell_type": "code",
   "execution_count": null,
   "id": "93622f6f-4771-4ce5-9b51-be91d6e68936",
   "metadata": {},
   "outputs": [],
   "source": []
  }
 ],
 "metadata": {
  "kernelspec": {
   "display_name": "math_for_ML",
   "language": "python",
   "name": "math_for_ml"
  },
  "language_info": {
   "codemirror_mode": {
    "name": "ipython",
    "version": 3
   },
   "file_extension": ".py",
   "mimetype": "text/x-python",
   "name": "python",
   "nbconvert_exporter": "python",
   "pygments_lexer": "ipython3",
   "version": "3.9.5"
  }
 },
 "nbformat": 4,
 "nbformat_minor": 5
}
