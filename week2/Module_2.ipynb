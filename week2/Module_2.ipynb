{
 "cells": [
  {
   "cell_type": "markdown",
   "id": "4c96a20a-3262-439d-a728-347e967ce0c5",
   "metadata": {},
   "source": [
    "# Mathematics for Machine Learning: Linear Algebra\n",
    "## Week2\n",
    "## Module 2:\n",
    "\n",
    "### Modulus & inner product (vectors)"
   ]
  },
  {
   "cell_type": "markdown",
   "id": "20b54a9d-c10b-4613-86d2-84998227f8dc",
   "metadata": {},
   "source": [
    "#### usefull pakages"
   ]
  },
  {
   "cell_type": "code",
   "execution_count": 1,
   "id": "be28153f-8764-4f1c-aaae-dd034f93a7ad",
   "metadata": {},
   "outputs": [],
   "source": [
    "from sympy import solve, Poly, Eq, Function, exp, sqrt, simplify,acos\n",
    "\n",
    "from sympy.abc import x, y, z, a, b, c, d , e, f\n",
    "from sympy.vector import CoordSys3D\n",
    "\n",
    "import numpy as np"
   ]
  },
  {
   "cell_type": "markdown",
   "id": "cc94561c",
   "metadata": {},
   "source": [
    "### lenght of the vector:"
   ]
  },
  {
   "cell_type": "code",
   "execution_count": 2,
   "id": "4b5282d4-441c-4d59-a645-1f1bfc889f8b",
   "metadata": {},
   "outputs": [
    {
     "data": {
      "text/latex": [
       "$\\displaystyle \\sqrt{x^{2} + y^{2} + z^{2}}$"
      ],
      "text/plain": [
       "sqrt(x**2 + y**2 + z**2)"
      ]
     },
     "execution_count": 2,
     "metadata": {},
     "output_type": "execute_result"
    }
   ],
   "source": [
    "C = CoordSys3D('C') # cartesian coordinate\n",
    "r = x*C.i + y*C.j + z*C.k\n",
    "sqrt(r.dot(r))"
   ]
  },
  {
   "cell_type": "markdown",
   "id": "b8eeda0f-645c-476f-b8a9-6108fe875e14",
   "metadata": {},
   "source": [
    "### dot product :"
   ]
  },
  {
   "cell_type": "code",
   "execution_count": 3,
   "id": "17ea343e",
   "metadata": {},
   "outputs": [
    {
     "data": {
      "text/latex": [
       "$\\displaystyle a x + b y + c z$"
      ],
      "text/plain": [
       "a*x + b*y + c*z"
      ]
     },
     "execution_count": 3,
     "metadata": {},
     "output_type": "execute_result"
    }
   ],
   "source": [
    "s = a*C.i + b*C.j + c*C.k\n",
    "r.dot(s)"
   ]
  },
  {
   "cell_type": "markdown",
   "id": "289b5bbf",
   "metadata": {},
   "source": [
    "#### commutative so s.r = r.s"
   ]
  },
  {
   "cell_type": "code",
   "execution_count": 4,
   "id": "45e763ea",
   "metadata": {},
   "outputs": [],
   "source": [
    "assert r.dot(s) == s.dot(r) "
   ]
  },
  {
   "cell_type": "markdown",
   "id": "943dfab5",
   "metadata": {},
   "source": [
    "#### distributive: r.(s+t) == r.s + r.t"
   ]
  },
  {
   "cell_type": "code",
   "execution_count": 5,
   "id": "e6dbf049",
   "metadata": {},
   "outputs": [],
   "source": [
    "t = d*C.i + e*C.j + f*C.k"
   ]
  },
  {
   "cell_type": "code",
   "execution_count": 6,
   "id": "4b21d694",
   "metadata": {},
   "outputs": [
    {
     "data": {
      "text/latex": [
       "$\\displaystyle x \\left(a + d\\right) + y \\left(b + e\\right) + z \\left(c + f\\right)$"
      ],
      "text/plain": [
       "x*(a + d) + y*(b + e) + z*(c + f)"
      ]
     },
     "execution_count": 6,
     "metadata": {},
     "output_type": "execute_result"
    }
   ],
   "source": [
    "r.dot(s+t)"
   ]
  },
  {
   "cell_type": "code",
   "execution_count": 7,
   "id": "7820108c",
   "metadata": {},
   "outputs": [
    {
     "data": {
      "text/latex": [
       "$\\displaystyle a x + b y + c z + d x + e y + f z$"
      ],
      "text/plain": [
       "a*x + b*y + c*z + d*x + e*y + f*z"
      ]
     },
     "execution_count": 7,
     "metadata": {},
     "output_type": "execute_result"
    }
   ],
   "source": [
    "r.dot(s) + r.dot(t)"
   ]
  },
  {
   "cell_type": "code",
   "execution_count": 8,
   "id": "cc840a56",
   "metadata": {},
   "outputs": [],
   "source": [
    "assert r.dot(s+t).equals(r.dot(s) + r.dot(t))"
   ]
  },
  {
   "cell_type": "code",
   "execution_count": 9,
   "id": "7c23f836",
   "metadata": {},
   "outputs": [
    {
     "data": {
      "text/latex": [
       "$\\displaystyle \\left(- a + x\\right)^{2} + \\left(- b + y\\right)^{2} + \\left(- c + z\\right)^{2}$"
      ],
      "text/plain": [
       "(-a + x)**2 + (-b + y)**2 + (-c + z)**2"
      ]
     },
     "execution_count": 9,
     "metadata": {},
     "output_type": "execute_result"
    }
   ],
   "source": [
    "(r-s).dot(r-s)"
   ]
  },
  {
   "cell_type": "code",
   "execution_count": 10,
   "id": "d466aa33",
   "metadata": {},
   "outputs": [],
   "source": [
    "from sympy.physics.vector import *\n",
    "N = ReferenceFrame('N')\n"
   ]
  },
  {
   "cell_type": "code",
   "execution_count": 11,
   "id": "6f9f08cc",
   "metadata": {},
   "outputs": [
    {
     "data": {
      "text/latex": [
       "$\\displaystyle \\sqrt{a^{2} + b^{2}}$"
      ],
      "text/plain": [
       "sqrt(a**2 + b**2)"
      ]
     },
     "execution_count": 11,
     "metadata": {},
     "output_type": "execute_result"
    }
   ],
   "source": [
    "(a*N.x+b*N.y).magnitude()"
   ]
  },
  {
   "cell_type": "code",
   "execution_count": 12,
   "id": "fd33cd64",
   "metadata": {},
   "outputs": [],
   "source": [
    "s=(a*N.x+b*N.y)\n",
    "r=(x*N.x + y*N.y) "
   ]
  },
  {
   "cell_type": "code",
   "execution_count": 13,
   "id": "558c4b38",
   "metadata": {},
   "outputs": [
    {
     "data": {
      "text/latex": [
       "$\\displaystyle a x + b y$"
      ],
      "text/plain": [
       "a*x + b*y"
      ]
     },
     "execution_count": 13,
     "metadata": {},
     "output_type": "execute_result"
    }
   ],
   "source": [
    "(r.dot(s))"
   ]
  },
  {
   "cell_type": "code",
   "execution_count": 14,
   "id": "08e2c156",
   "metadata": {},
   "outputs": [
    {
     "data": {
      "text/latex": [
       "$\\displaystyle \\sqrt{a^{2} + b^{2}} \\sqrt{x^{2} + y^{2}}$"
      ],
      "text/plain": [
       "sqrt(a**2 + b**2)*sqrt(x**2 + y**2)"
      ]
     },
     "execution_count": 14,
     "metadata": {},
     "output_type": "execute_result"
    }
   ],
   "source": [
    "r.magnitude()*s.magnitude()"
   ]
  },
  {
   "cell_type": "code",
   "execution_count": 15,
   "id": "97b19c63",
   "metadata": {},
   "outputs": [],
   "source": [
    "Tetha = acos((r.dot(s))/(r.magnitude()*s.magnitude()))"
   ]
  },
  {
   "cell_type": "code",
   "execution_count": 16,
   "id": "4a4a344b",
   "metadata": {},
   "outputs": [
    {
     "data": {
      "text/latex": [
       "$\\displaystyle \\operatorname{acos}{\\left(\\frac{a x + b y}{\\sqrt{a^{2} + b^{2}} \\sqrt{x^{2} + y^{2}}} \\right)}$"
      ],
      "text/plain": [
       "acos((a*x + b*y)/(sqrt(a**2 + b**2)*sqrt(x**2 + y**2)))"
      ]
     },
     "execution_count": 16,
     "metadata": {},
     "output_type": "execute_result"
    }
   ],
   "source": [
    "Tetha"
   ]
  },
  {
   "cell_type": "code",
   "execution_count": 17,
   "id": "a1c144d9",
   "metadata": {},
   "outputs": [
    {
     "data": {
      "text/latex": [
       "$\\displaystyle x^{2} + y^{2}$"
      ],
      "text/plain": [
       "x**2 + y**2"
      ]
     },
     "execution_count": 17,
     "metadata": {},
     "output_type": "execute_result"
    }
   ],
   "source": [
    "(r.dot(r))"
   ]
  },
  {
   "cell_type": "code",
   "execution_count": 18,
   "id": "847fe502",
   "metadata": {},
   "outputs": [
    {
     "data": {
      "text/latex": [
       "$\\displaystyle - x^{2} - y^{2}$"
      ],
      "text/plain": [
       "-x**2 - y**2"
      ]
     },
     "execution_count": 18,
     "metadata": {},
     "output_type": "execute_result"
    }
   ],
   "source": [
    "(r.dot(-r))"
   ]
  },
  {
   "cell_type": "code",
   "execution_count": 19,
   "id": "380eb999",
   "metadata": {},
   "outputs": [],
   "source": [
    " rn = (y*N.x + -x*N.y)  #normal "
   ]
  },
  {
   "cell_type": "code",
   "execution_count": 20,
   "id": "e6eeffb8",
   "metadata": {},
   "outputs": [
    {
     "data": {
      "text/latex": [
       "$\\displaystyle 0$"
      ],
      "text/plain": [
       "0"
      ]
     },
     "execution_count": 20,
     "metadata": {},
     "output_type": "execute_result"
    }
   ],
   "source": [
    "(r.dot(rn))"
   ]
  },
  {
   "cell_type": "markdown",
   "id": "3a890a70",
   "metadata": {},
   "source": [
    "### Projection"
   ]
  },
  {
   "cell_type": "code",
   "execution_count": 21,
   "id": "e33d7711",
   "metadata": {},
   "outputs": [
    {
     "data": {
      "text/latex": [
       "$\\displaystyle (\\frac{7}{3})\\mathbf{\\hat{i}_{C}} + (\\frac{7}{3})\\mathbf{\\hat{j}_{C}} + (\\frac{7}{3})\\mathbf{\\hat{k}_{C}}$"
      ],
      "text/plain": [
       "7/3*C.i + 7/3*C.j + 7/3*C.k"
      ]
     },
     "execution_count": 21,
     "metadata": {},
     "output_type": "execute_result"
    }
   ],
   "source": [
    "i, j, k = C.base_vectors()\n",
    "v1 = i + j + k\n",
    "v2 = 3*i + 4*j\n",
    "v1.projection(v2)"
   ]
  },
  {
   "cell_type": "code",
   "execution_count": null,
   "id": "7dcab8db",
   "metadata": {},
   "outputs": [],
   "source": []
  },
  {
   "cell_type": "code",
   "execution_count": 22,
   "id": "38230e73",
   "metadata": {},
   "outputs": [
    {
     "data": {
      "text/latex": [
       "$\\displaystyle (\\frac{21}{25})\\mathbf{\\hat{i}_{C}} + (\\frac{28}{25})\\mathbf{\\hat{j}_{C}}$"
      ],
      "text/plain": [
       "21/25*C.i + 28/25*C.j"
      ]
     },
     "execution_count": 22,
     "metadata": {},
     "output_type": "execute_result"
    }
   ],
   "source": [
    "v2.projection(v1)"
   ]
  },
  {
   "cell_type": "markdown",
   "id": "2d73080b",
   "metadata": {},
   "source": [
    "#### Scalar Projection"
   ]
  },
  {
   "cell_type": "code",
   "execution_count": 23,
   "id": "e424a0d0",
   "metadata": {},
   "outputs": [
    {
     "data": {
      "text/plain": [
       "True"
      ]
     },
     "execution_count": 23,
     "metadata": {},
     "output_type": "execute_result"
    }
   ],
   "source": [
    "v2.projection(v1,scalar=True) == v1.dot(v2)/(v2.magnitude()**2)"
   ]
  },
  {
   "cell_type": "code",
   "execution_count": 24,
   "id": "97c25e03",
   "metadata": {},
   "outputs": [
    {
     "data": {
      "text/latex": [
       "$\\displaystyle \\frac{7}{25}$"
      ],
      "text/plain": [
       "7/25"
      ]
     },
     "execution_count": 24,
     "metadata": {},
     "output_type": "execute_result"
    }
   ],
   "source": [
    "v2.projection(v1,scalar=True)"
   ]
  },
  {
   "cell_type": "code",
   "execution_count": 25,
   "id": "81752b4a",
   "metadata": {},
   "outputs": [
    {
     "data": {
      "text/plain": [
       "True"
      ]
     },
     "execution_count": 25,
     "metadata": {},
     "output_type": "execute_result"
    }
   ],
   "source": [
    "v1.projection(v2,scalar=True) == v2.dot(v1)/(v1.magnitude()**2)"
   ]
  },
  {
   "cell_type": "code",
   "execution_count": 26,
   "id": "6ff4a9a1",
   "metadata": {},
   "outputs": [
    {
     "data": {
      "text/latex": [
       "$\\displaystyle \\frac{7}{3}$"
      ],
      "text/plain": [
       "7/3"
      ]
     },
     "execution_count": 26,
     "metadata": {},
     "output_type": "execute_result"
    }
   ],
   "source": [
    "v1.projection(v2,scalar=True)"
   ]
  },
  {
   "cell_type": "markdown",
   "id": "992e9f29",
   "metadata": {},
   "source": [
    "## Changing basis"
   ]
  },
  {
   "cell_type": "markdown",
   "id": "a1c160ff",
   "metadata": {},
   "source": [
    "1)"
   ]
  },
  {
   "cell_type": "code",
   "execution_count": 27,
   "id": "7aaaef5b",
   "metadata": {},
   "outputs": [],
   "source": [
    "v = np.array([1,1,2,3])"
   ]
  },
  {
   "cell_type": "code",
   "execution_count": 28,
   "id": "a13f5a2a",
   "metadata": {},
   "outputs": [],
   "source": [
    "b1 = np.array([1,0,0,0])\n",
    "b2 = np.array([0,2,-1,0])\n",
    "b3 = np.array([0,1,2,0])\n",
    "b4 = np.array([0,0,0,0])"
   ]
  },
  {
   "cell_type": "code",
   "execution_count": 29,
   "id": "48ae31fe",
   "metadata": {},
   "outputs": [
    {
     "data": {
      "text/plain": [
       "1.0"
      ]
     },
     "execution_count": 29,
     "metadata": {},
     "output_type": "execute_result"
    }
   ],
   "source": [
    "v.dot(b1)/(b1.dot(b1))\n"
   ]
  },
  {
   "cell_type": "code",
   "execution_count": 30,
   "id": "520fcbeb",
   "metadata": {},
   "outputs": [
    {
     "data": {
      "text/plain": [
       "0.0"
      ]
     },
     "execution_count": 30,
     "metadata": {},
     "output_type": "execute_result"
    }
   ],
   "source": [
    "v.dot(b2)/(b2.dot(b2))"
   ]
  },
  {
   "cell_type": "code",
   "execution_count": 31,
   "id": "78eff665",
   "metadata": {},
   "outputs": [
    {
     "data": {
      "text/plain": [
       "1.0"
      ]
     },
     "execution_count": 31,
     "metadata": {},
     "output_type": "execute_result"
    }
   ],
   "source": [
    "v.dot(b3)/(b3.dot(b3))"
   ]
  },
  {
   "cell_type": "code",
   "execution_count": 32,
   "id": "d3d86230",
   "metadata": {},
   "outputs": [
    {
     "data": {
      "text/plain": [
       "1.0"
      ]
     },
     "execution_count": 32,
     "metadata": {},
     "output_type": "execute_result"
    }
   ],
   "source": [
    "v.dot(b3)/(b3.dot(b3))"
   ]
  },
  {
   "cell_type": "markdown",
   "id": "6a6dfca5",
   "metadata": {},
   "source": [
    "## Vector operations assessment"
   ]
  },
  {
   "cell_type": "code",
   "execution_count": 33,
   "id": "7589e2f9",
   "metadata": {},
   "outputs": [
    {
     "data": {
      "text/latex": [
       "$\\displaystyle \\frac{2}{25}$"
      ],
      "text/plain": [
       "2/25"
      ]
     },
     "execution_count": 33,
     "metadata": {},
     "output_type": "execute_result"
    }
   ],
   "source": [
    "v1 = 2*i + j\n",
    "c = 3*i -4 *j\n",
    "#c2 = i-j\n",
    "#assert c.dot(c2) == 0\n",
    "assert v1.dot(c)/(c.dot(c)) == c.projection(v1,scalar=True)\n",
    "c.projection(v1,scalar=True)"
   ]
  },
  {
   "cell_type": "code",
   "execution_count": 34,
   "id": "5b561969",
   "metadata": {},
   "outputs": [
    {
     "ename": "NameError",
     "evalue": "name 'c2' is not defined",
     "output_type": "error",
     "traceback": [
      "\u001b[0;31m---------------------------------------------------------------------------\u001b[0m",
      "\u001b[0;31mNameError\u001b[0m                                 Traceback (most recent call last)",
      "\u001b[0;32m<ipython-input-34-073d1eac4a78>\u001b[0m in \u001b[0;36m<module>\u001b[0;34m\u001b[0m\n\u001b[0;32m----> 1\u001b[0;31m \u001b[0mc2\u001b[0m\u001b[0;34m.\u001b[0m\u001b[0mprojection\u001b[0m\u001b[0;34m(\u001b[0m\u001b[0mv1\u001b[0m\u001b[0;34m)\u001b[0m\u001b[0;34m\u001b[0m\u001b[0;34m\u001b[0m\u001b[0m\n\u001b[0m",
      "\u001b[0;31mNameError\u001b[0m: name 'c2' is not defined"
     ]
    }
   ],
   "source": [
    "c2.projection(v1)"
   ]
  },
  {
   "cell_type": "code",
   "execution_count": 35,
   "id": "f60c8266",
   "metadata": {},
   "outputs": [],
   "source": [
    "v = -4*i-3*j+8*k\n",
    "b1 = i+2*j+3*k\n",
    "b2 = -2*i+1*j\n",
    "b3 = -3*i-6*j+5*k"
   ]
  },
  {
   "cell_type": "code",
   "execution_count": 36,
   "id": "929889ae",
   "metadata": {},
   "outputs": [
    {
     "data": {
      "text/latex": [
       "$\\displaystyle 1$"
      ],
      "text/plain": [
       "1"
      ]
     },
     "execution_count": 36,
     "metadata": {},
     "output_type": "execute_result"
    }
   ],
   "source": [
    "b1.projection(v,scalar=True)"
   ]
  },
  {
   "cell_type": "code",
   "execution_count": 37,
   "id": "47763395",
   "metadata": {},
   "outputs": [
    {
     "data": {
      "text/latex": [
       "$\\displaystyle 1$"
      ],
      "text/plain": [
       "1"
      ]
     },
     "execution_count": 37,
     "metadata": {},
     "output_type": "execute_result"
    }
   ],
   "source": [
    "b2.projection(v,scalar=True)"
   ]
  },
  {
   "cell_type": "code",
   "execution_count": 38,
   "id": "f27289f5",
   "metadata": {},
   "outputs": [
    {
     "data": {
      "text/latex": [
       "$\\displaystyle 1$"
      ],
      "text/plain": [
       "1"
      ]
     },
     "execution_count": 38,
     "metadata": {},
     "output_type": "execute_result"
    }
   ],
   "source": [
    "b3.projection(v,scalar=True)"
   ]
  },
  {
   "cell_type": "code",
   "execution_count": 39,
   "id": "17ed7009",
   "metadata": {},
   "outputs": [],
   "source": [
    "x = np.array([3, 2, 4])\n",
    "v = np.array([-1, 2, -3])\n",
    "t = 2"
   ]
  },
  {
   "cell_type": "code",
   "execution_count": 40,
   "id": "3cc7fa95",
   "metadata": {},
   "outputs": [],
   "source": [
    "x_n = x + t * v "
   ]
  },
  {
   "cell_type": "code",
   "execution_count": 41,
   "id": "abc17dd4",
   "metadata": {},
   "outputs": [
    {
     "data": {
      "text/plain": [
       "array([ 1,  6, -2])"
      ]
     },
     "execution_count": 41,
     "metadata": {},
     "output_type": "execute_result"
    }
   ],
   "source": [
    "x_n"
   ]
  },
  {
   "cell_type": "code",
   "execution_count": null,
   "id": "3525998e",
   "metadata": {},
   "outputs": [],
   "source": []
  }
 ],
 "metadata": {
  "kernelspec": {
   "display_name": "math_for_ML",
   "language": "python",
   "name": "math_for_ml"
  },
  "language_info": {
   "codemirror_mode": {
    "name": "ipython",
    "version": 3
   },
   "file_extension": ".py",
   "mimetype": "text/x-python",
   "name": "python",
   "nbconvert_exporter": "python",
   "pygments_lexer": "ipython3",
   "version": "3.9.5"
  }
 },
 "nbformat": 4,
 "nbformat_minor": 5
}
